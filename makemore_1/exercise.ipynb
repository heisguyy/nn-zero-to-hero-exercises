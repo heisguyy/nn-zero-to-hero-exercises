{
 "cells": [
  {
   "cell_type": "code",
   "execution_count": 1,
   "metadata": {},
   "outputs": [],
   "source": [
    "import torch\n",
    "import torch.nn.functional as F"
   ]
  },
  {
   "cell_type": "code",
   "execution_count": 2,
   "metadata": {},
   "outputs": [],
   "source": [
    "data = open(\"../names.txt\",\"r\").read().splitlines()"
   ]
  },
  {
   "cell_type": "code",
   "execution_count": 3,
   "metadata": {},
   "outputs": [],
   "source": [
    "chars_feature = sorted([i+j for j in set(\".\"+\"\".join(data)) for i in set(\".\"+\"\".join(data))])\n",
    "stoi_feature  = {s:i for i,s in enumerate(chars_feature)}\n",
    "\n",
    "label = sorted(set(\".\"+\"\".join(data)))\n",
    "stoi_label = {s:i for i,s in enumerate(label)}\n",
    "itos = {i:s for s,i in stoi_label.items()}"
   ]
  },
  {
   "cell_type": "code",
   "execution_count": 4,
   "metadata": {},
   "outputs": [
    {
     "data": {
      "text/plain": [
       "228146"
      ]
     },
     "execution_count": 4,
     "metadata": {},
     "output_type": "execute_result"
    }
   ],
   "source": [
    "xs = []\n",
    "ys = []\n",
    "for word in data:\n",
    "    chars = [\".\"] * 2 + list(word) + [\".\"]\n",
    "    for ch1,ch2,ch3 in zip(chars,chars[1:],chars[2:]):\n",
    "        xs.append(stoi_feature[ch1+ch2])\n",
    "        ys.append(stoi_label[ch3])\n",
    "xs = torch.tensor(xs)\n",
    "ys = torch.tensor(ys)\n",
    "len(xs)"
   ]
  },
  {
   "cell_type": "code",
   "execution_count": 5,
   "metadata": {},
   "outputs": [
    {
     "name": "stdout",
     "output_type": "stream",
     "text": [
      "2.2505877017974854\n"
     ]
    }
   ],
   "source": [
    "xenc = F.one_hot(xs,num_classes=729).float()\n",
    "\n",
    "g = torch.Generator().manual_seed(2147483647)\n",
    "W = torch.randn((729, 27), generator=g, requires_grad=True)\n",
    "for _ in range(1000):\n",
    "\n",
    "    logits = xenc @ W\n",
    "    counts = logits.exp()\n",
    "    probs = counts / counts.sum(1,keepdims=True)\n",
    "    loss = -probs[torch.arange(228146),ys].log().mean() + 0.01*(W**2).mean()\n",
    "\n",
    "    W.grad = None\n",
    "    loss.backward()\n",
    "\n",
    "    W.data += -50 * W.grad\n",
    "\n",
    "print(loss.item())\n"
   ]
  },
  {
   "cell_type": "code",
   "execution_count": 74,
   "metadata": {},
   "outputs": [
    {
     "name": "stdout",
     "output_type": "stream",
     "text": [
      "prie.\n",
      "zoe.\n",
      "jeslyn.\n",
      "alei.\n",
      "coljazia.\n"
     ]
    }
   ],
   "source": [
    "for i in range(5):\n",
    "    out = [\".\"]\n",
    "    ix = 0\n",
    "    while True:\n",
    "        xenc = F.one_hot(torch.tensor([ix]), num_classes=729).float()\n",
    "        logits = xenc @ W \n",
    "        counts = logits.exp()\n",
    "        p = counts / counts.sum(1, keepdims=True)\n",
    "\n",
    "        next_char = torch.multinomial(p, num_samples=1, replacement=True).item()\n",
    "        out.append(itos[next_char])\n",
    "        if next_char == 0:\n",
    "            break\n",
    "        ix = stoi_feature[\"\".join(out[-2:])]\n",
    "    print(''.join(out[1:]))"
   ]
  }
 ],
 "metadata": {
  "kernelspec": {
   "display_name": "Python 3.9.12 ('pytorch')",
   "language": "python",
   "name": "python3"
  },
  "language_info": {
   "codemirror_mode": {
    "name": "ipython",
    "version": 3
   },
   "file_extension": ".py",
   "mimetype": "text/x-python",
   "name": "python",
   "nbconvert_exporter": "python",
   "pygments_lexer": "ipython3",
   "version": "3.9.12"
  },
  "orig_nbformat": 4,
  "vscode": {
   "interpreter": {
    "hash": "a7496100d2db5b35d18c32b543d75d751863f932da3909c6d1c4ff64dfbf2d15"
   }
  }
 },
 "nbformat": 4,
 "nbformat_minor": 2
}
